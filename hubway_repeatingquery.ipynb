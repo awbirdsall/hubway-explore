{
 "cells": [
  {
   "cell_type": "markdown",
   "metadata": {},
   "source": [
    "# Repeatedly querying Hubway status"
   ]
  },
  {
   "cell_type": "code",
   "execution_count": 1,
   "metadata": {
    "collapsed": true
   },
   "outputs": [],
   "source": [
    "from pylab import rcParams\n",
    "%matplotlib inline\n",
    "rcParams['figure.figsize'] = (8,6)\n",
    "\n",
    "import urllib\n",
    "from lxml import etree\n",
    "import datetime\n",
    "from mpl_toolkits.basemap import Basemap\n",
    "import matplotlib.pyplot as plt\n",
    "import pandas as pd\n",
    "import schedule\n",
    "import time"
   ]
  },
  {
   "cell_type": "markdown",
   "metadata": {},
   "source": [
    "## Periodically print the most recently updated station\n",
    "\n",
    "Simplest thing is just to reload and reanalyze the XML file periodically:"
   ]
  },
  {
   "cell_type": "code",
   "execution_count": 2,
   "metadata": {
    "collapsed": true
   },
   "outputs": [],
   "source": [
    "def printmostrecent():\n",
    "    data = etree.parse(urllib.urlopen('http://www.thehubway.com/data/stations/bikeStations.xml'))\n",
    "    stations = data.findall('station')\n",
    "    everything = [[elt.text for elt in station.getchildren()] for station in stations]\n",
    "    df = pd.DataFrame(everything, columns = [elt.tag for elt in data.find('station')]).convert_objects(convert_numeric=True)\n",
    "    df.set_index('name', inplace=True)\n",
    "    mostrecent = df.sort('latestUpdateTime', ascending=False).head(1)\n",
    "    recentname = mostrecent.index.to_native_types()[0]\n",
    "    recenttime = datetime.datetime.fromtimestamp(mostrecent['latestUpdateTime']/1.e3)\n",
    "    print \"Latest updated station was {} at {}.\".format(recentname, recenttime)"
   ]
  },
  {
   "cell_type": "markdown",
   "metadata": {},
   "source": [
    "Try using python `schedule` module to repeatedly run one of these lookups."
   ]
  },
  {
   "cell_type": "code",
   "execution_count": 3,
   "metadata": {
    "collapsed": false
   },
   "outputs": [],
   "source": [
    "def repeatmostrecent(seconds):\n",
    "    schedule.clear()\n",
    "    schedule.every(seconds).seconds.do(printmostrecent)\n",
    "    while True:\n",
    "        schedule.run_pending()\n",
    "        time.sleep(1)"
   ]
  },
  {
   "cell_type": "markdown",
   "metadata": {},
   "source": [
    "Similarly, can also count how many stations have been updated recently."
   ]
  },
  {
   "cell_type": "code",
   "execution_count": 4,
   "metadata": {
    "collapsed": true
   },
   "outputs": [],
   "source": [
    "def enumerateupdated(minutes):\n",
    "    data = etree.parse(urllib.urlopen('http://www.thehubway.com/data/stations/bikeStations.xml'))\n",
    "    stations = data.findall('station')\n",
    "    everything = [[elt.text for elt in station.getchildren()] for station in stations]\n",
    "    df = pd.DataFrame(everything, columns = [elt.tag for elt in data.find('station')]).convert_objects(convert_numeric=True)\n",
    "    df.set_index('name', inplace=True)\n",
    "    timeago = (time.time() - df['latestUpdateTime']/1e3)\n",
    "    updated = timeago <= minutes * 60\n",
    "    numupdated = len(df[updated].index)\n",
    "    print \"In the past {} minutes, {} stations have updated.\".format(minutes, numupdated)"
   ]
  },
  {
   "cell_type": "code",
   "execution_count": 5,
   "metadata": {
    "collapsed": false,
    "scrolled": false
   },
   "outputs": [],
   "source": [
    "# repeatmostrecent(15)"
   ]
  },
  {
   "cell_type": "code",
   "execution_count": 6,
   "metadata": {
    "collapsed": false
   },
   "outputs": [],
   "source": [
    "def repeatupdated(secondsrefresh, minutesback):\n",
    "    schedule.clear()\n",
    "    schedule.every(secondsrefresh).seconds.do(enumerateupdated, minutesback)\n",
    "    while True:\n",
    "        schedule.run_pending()\n",
    "        time.sleep(1)"
   ]
  },
  {
   "cell_type": "code",
   "execution_count": 7,
   "metadata": {
    "collapsed": false
   },
   "outputs": [],
   "source": [
    "# repeatupdated(15, 5)"
   ]
  },
  {
   "cell_type": "markdown",
   "metadata": {},
   "source": [
    "A little more complicated is to compare the reloaded data to the previous data. This lets you figure out, e.g., if a bike has been checked out or returned."
   ]
  },
  {
   "cell_type": "markdown",
   "metadata": {},
   "source": [
    "## Compare data from two retrievals"
   ]
  },
  {
   "cell_type": "markdown",
   "metadata": {},
   "source": [
    "Convenience function to grab DataFrame."
   ]
  },
  {
   "cell_type": "code",
   "execution_count": 9,
   "metadata": {
    "collapsed": false
   },
   "outputs": [],
   "source": [
    "def getupdate():\n",
    "    data = etree.parse(urllib.urlopen('http://www.thehubway.com/data/stations/bikeStations.xml'))\n",
    "    stations = data.findall('station')\n",
    "    everything = [[elt.text for elt in station.getchildren()] for station in stations]\n",
    "    df = pd.DataFrame(everything, columns = [elt.tag for elt in data.find('station')]).convert_objects(convert_numeric=True)\n",
    "    df.set_index('name', inplace=True)\n",
    "    return df"
   ]
  },
  {
   "cell_type": "markdown",
   "metadata": {},
   "source": [
    "Manual calculation of difference"
   ]
  },
  {
   "cell_type": "code",
   "execution_count": 10,
   "metadata": {
    "collapsed": false
   },
   "outputs": [
    {
     "data": {
      "text/html": [
       "<div>\n",
       "<table border=\"1\" class=\"dataframe\">\n",
       "  <thead>\n",
       "    <tr style=\"text-align: right;\">\n",
       "      <th></th>\n",
       "      <th>id</th>\n",
       "      <th>terminalName</th>\n",
       "      <th>lastCommWithServer</th>\n",
       "      <th>lat</th>\n",
       "      <th>long</th>\n",
       "      <th>installed</th>\n",
       "      <th>locked</th>\n",
       "      <th>installDate</th>\n",
       "      <th>removalDate</th>\n",
       "      <th>temporary</th>\n",
       "      <th>public</th>\n",
       "      <th>nbBikes</th>\n",
       "      <th>nbEmptyDocks</th>\n",
       "      <th>latestUpdateTime</th>\n",
       "    </tr>\n",
       "    <tr>\n",
       "      <th>name</th>\n",
       "      <th></th>\n",
       "      <th></th>\n",
       "      <th></th>\n",
       "      <th></th>\n",
       "      <th></th>\n",
       "      <th></th>\n",
       "      <th></th>\n",
       "      <th></th>\n",
       "      <th></th>\n",
       "      <th></th>\n",
       "      <th></th>\n",
       "      <th></th>\n",
       "      <th></th>\n",
       "      <th></th>\n",
       "    </tr>\n",
       "  </thead>\n",
       "  <tbody>\n",
       "    <tr>\n",
       "      <th>Colleges of the Fenway</th>\n",
       "      <td>3</td>\n",
       "      <td>B32006</td>\n",
       "      <td>1443734123763</td>\n",
       "      <td>42.340021</td>\n",
       "      <td>-71.100812</td>\n",
       "      <td>true</td>\n",
       "      <td>false</td>\n",
       "      <td>0</td>\n",
       "      <td>None</td>\n",
       "      <td>false</td>\n",
       "      <td>true</td>\n",
       "      <td>8</td>\n",
       "      <td>6</td>\n",
       "      <td>1443733641110</td>\n",
       "    </tr>\n",
       "    <tr>\n",
       "      <th>Tremont St. at Berkeley St.</th>\n",
       "      <td>4</td>\n",
       "      <td>C32000</td>\n",
       "      <td>1443734211158</td>\n",
       "      <td>42.345392</td>\n",
       "      <td>-71.069616</td>\n",
       "      <td>true</td>\n",
       "      <td>false</td>\n",
       "      <td>0</td>\n",
       "      <td>None</td>\n",
       "      <td>false</td>\n",
       "      <td>true</td>\n",
       "      <td>12</td>\n",
       "      <td>3</td>\n",
       "      <td>1443734210382</td>\n",
       "    </tr>\n",
       "    <tr>\n",
       "      <th>Northeastern U / North Parking Lot</th>\n",
       "      <td>5</td>\n",
       "      <td>B32012</td>\n",
       "      <td>1443734129638</td>\n",
       "      <td>42.341814</td>\n",
       "      <td>-71.090179</td>\n",
       "      <td>true</td>\n",
       "      <td>false</td>\n",
       "      <td>0</td>\n",
       "      <td>None</td>\n",
       "      <td>false</td>\n",
       "      <td>true</td>\n",
       "      <td>1</td>\n",
       "      <td>13</td>\n",
       "      <td>1443733736775</td>\n",
       "    </tr>\n",
       "  </tbody>\n",
       "</table>\n",
       "</div>"
      ],
      "text/plain": [
       "                                    id terminalName  lastCommWithServer  \\\n",
       "name                                                                      \n",
       "Colleges of the Fenway               3       B32006       1443734123763   \n",
       "Tremont St. at Berkeley St.          4       C32000       1443734211158   \n",
       "Northeastern U / North Parking Lot   5       B32012       1443734129638   \n",
       "\n",
       "                                          lat       long installed locked  \\\n",
       "name                                                                        \n",
       "Colleges of the Fenway              42.340021 -71.100812      true  false   \n",
       "Tremont St. at Berkeley St.         42.345392 -71.069616      true  false   \n",
       "Northeastern U / North Parking Lot  42.341814 -71.090179      true  false   \n",
       "\n",
       "                                    installDate removalDate temporary public  \\\n",
       "name                                                                           \n",
       "Colleges of the Fenway                        0        None     false   true   \n",
       "Tremont St. at Berkeley St.                   0        None     false   true   \n",
       "Northeastern U / North Parking Lot            0        None     false   true   \n",
       "\n",
       "                                    nbBikes  nbEmptyDocks  latestUpdateTime  \n",
       "name                                                                         \n",
       "Colleges of the Fenway                    8             6     1443733641110  \n",
       "Tremont St. at Berkeley St.              12             3     1443734210382  \n",
       "Northeastern U / North Parking Lot        1            13     1443733736775  "
      ]
     },
     "execution_count": 10,
     "metadata": {},
     "output_type": "execute_result"
    }
   ],
   "source": [
    "df = getupdate()\n",
    "df.head(3)"
   ]
  },
  {
   "cell_type": "code",
   "execution_count": 11,
   "metadata": {
    "collapsed": true
   },
   "outputs": [],
   "source": [
    "def comparedata(new, old):\n",
    "    bikediff = new['nbBikes'] - old['nbBikes']\n",
    "    return bikediff"
   ]
  },
  {
   "cell_type": "code",
   "execution_count": 12,
   "metadata": {
    "collapsed": true
   },
   "outputs": [],
   "source": [
    "# run this cell a few minutes later...\n",
    "df2 = getupdate()"
   ]
  },
  {
   "cell_type": "code",
   "execution_count": 17,
   "metadata": {
    "collapsed": false
   },
   "outputs": [
    {
     "name": "stdout",
     "output_type": "stream",
     "text": [
      "17\n",
      "13\n"
     ]
    }
   ],
   "source": [
    "diff = comparedata(df2, df)\n",
    "lostbikes = diff[diff < 0]\n",
    "gainbikes = diff[diff > 0]\n",
    "print len(lostbikes)\n",
    "print len(gainbikes)"
   ]
  },
  {
   "cell_type": "code",
   "execution_count": 21,
   "metadata": {
    "collapsed": true
   },
   "outputs": [],
   "source": [
    "def gainloss(delay):\n",
    "    df = getupdate()\n",
    "    time.sleep(delay) # delay in s\n",
    "    df2 = getupdate()\n",
    "    diff = comparedata(df2, df)\n",
    "    lostbikes = diff[diff < 0]\n",
    "    gainbikes = diff[diff > 0]\n",
    "    return lostbikes, gainbikes"
   ]
  },
  {
   "cell_type": "code",
   "execution_count": 22,
   "metadata": {
    "collapsed": false
   },
   "outputs": [
    {
     "data": {
      "text/plain": [
       "(name\n",
       " Cambridge St. at Joy St.                         -1\n",
       " Seaport Square - Seaport Blvd. at Boston Wharf   -1\n",
       " The Esplanade - Beacon St. at Arlington St.      -1\n",
       " MIT at Mass Ave / Amherst St                     -1\n",
       " One Broadway / Kendall Sq at Main St / 3rd St    -1\n",
       " Brookline Village - Station Street @ MBTA        -1\n",
       " Cambridge St - at Columbia St / Webster Ave      -2\n",
       " Andrew Station - Dorchester Ave at Humboldt Pl   -1\n",
       " Kendall Street                                   -1\n",
       " Name: nbBikes, dtype: int64, name\n",
       " Colleges of the Fenway                                          1\n",
       " Northeastern U / North Parking Lot                              1\n",
       " Ruggles Station / Columbus Ave.                                 1\n",
       " Aquarium Station - 200 Atlantic Ave.                            2\n",
       " Prudential Center / Belvidere                                   1\n",
       " Washington St. at Waltham St.                                   1\n",
       " TD Garden - Causeway at Portal Park #2                          1\n",
       " Central Square at Mass Ave / Essex St                           1\n",
       " Cambridge Main Library at Broadway / Trowbridge St              1\n",
       " Harvard University / SEAS Cruft-Pierce Halls at 29 Oxford St    1\n",
       " TD Garden - Causeway at Portal Park #1                          2\n",
       " Somerville Hospital at Highland Ave / Crocker St                1\n",
       " Name: nbBikes, dtype: int64)"
      ]
     },
     "execution_count": 22,
     "metadata": {},
     "output_type": "execute_result"
    }
   ],
   "source": [
    "gainloss(60)"
   ]
  },
  {
   "cell_type": "code",
   "execution_count": 24,
   "metadata": {
    "collapsed": true
   },
   "outputs": [],
   "source": [
    "def monitorgainloss(interval):\n",
    "    df1 = getupdate()\n",
    "    while True:\n",
    "        time.sleep(interval) # interval in s\n",
    "        df2 = getupdate()\n",
    "        diff = comparedata(df2, df1)\n",
    "        lostbikes = diff[diff < 0]\n",
    "        gainbikes = diff[diff > 0]\n",
    "        print \"In past {} seconds, there have been {} bikes checked out and {} bikes returned.\".format(interval, len(lostbikes), len(gainbikes))\n",
    "        df1 = df2"
   ]
  },
  {
   "cell_type": "code",
   "execution_count": 26,
   "metadata": {
    "collapsed": false
   },
   "outputs": [
    {
     "name": "stdout",
     "output_type": "stream",
     "text": [
      "In past 60 seconds, there have been 10 bikes checked out and 9 bikes returned.\n",
      "In past 60 seconds, there have been 7 bikes checked out and 7 bikes returned.\n",
      "In past 60 seconds, there have been 8 bikes checked out and 9 bikes returned.\n",
      "In past 60 seconds, there have been 10 bikes checked out and 11 bikes returned.\n",
      "In past 60 seconds, there have been 7 bikes checked out and 12 bikes returned.\n",
      "In past 60 seconds, there have been 11 bikes checked out and 9 bikes returned.\n",
      "In past 60 seconds, there have been 5 bikes checked out and 13 bikes returned.\n",
      "In past 60 seconds, there have been 10 bikes checked out and 12 bikes returned.\n",
      "In past 60 seconds, there have been 5 bikes checked out and 10 bikes returned.\n",
      "In past 60 seconds, there have been 6 bikes checked out and 11 bikes returned.\n",
      "In past 60 seconds, there have been 7 bikes checked out and 8 bikes returned.\n"
     ]
    },
    {
     "ename": "KeyboardInterrupt",
     "evalue": "",
     "output_type": "error",
     "traceback": [
      "\u001b[1;31m---------------------------------------------------------------------------\u001b[0m",
      "\u001b[1;31mKeyboardInterrupt\u001b[0m                         Traceback (most recent call last)",
      "\u001b[1;32m<ipython-input-26-7025a58d2fd5>\u001b[0m in \u001b[0;36m<module>\u001b[1;34m()\u001b[0m\n\u001b[1;32m----> 1\u001b[1;33m \u001b[0mmonitorgainloss\u001b[0m\u001b[1;33m(\u001b[0m\u001b[1;36m60\u001b[0m\u001b[1;33m)\u001b[0m\u001b[1;33m\u001b[0m\u001b[0m\n\u001b[0m",
      "\u001b[1;32m<ipython-input-24-ad8aad2f86ca>\u001b[0m in \u001b[0;36mmonitorgainloss\u001b[1;34m(interval)\u001b[0m\n\u001b[0;32m      2\u001b[0m     \u001b[0mdf1\u001b[0m \u001b[1;33m=\u001b[0m \u001b[0mgetupdate\u001b[0m\u001b[1;33m(\u001b[0m\u001b[1;33m)\u001b[0m\u001b[1;33m\u001b[0m\u001b[0m\n\u001b[0;32m      3\u001b[0m     \u001b[1;32mwhile\u001b[0m \u001b[0mTrue\u001b[0m\u001b[1;33m:\u001b[0m\u001b[1;33m\u001b[0m\u001b[0m\n\u001b[1;32m----> 4\u001b[1;33m         \u001b[0mtime\u001b[0m\u001b[1;33m.\u001b[0m\u001b[0msleep\u001b[0m\u001b[1;33m(\u001b[0m\u001b[0minterval\u001b[0m\u001b[1;33m)\u001b[0m \u001b[1;31m# interval in s\u001b[0m\u001b[1;33m\u001b[0m\u001b[0m\n\u001b[0m\u001b[0;32m      5\u001b[0m         \u001b[0mdf2\u001b[0m \u001b[1;33m=\u001b[0m \u001b[0mgetupdate\u001b[0m\u001b[1;33m(\u001b[0m\u001b[1;33m)\u001b[0m\u001b[1;33m\u001b[0m\u001b[0m\n\u001b[0;32m      6\u001b[0m         \u001b[0mdiff\u001b[0m \u001b[1;33m=\u001b[0m \u001b[0mcomparedata\u001b[0m\u001b[1;33m(\u001b[0m\u001b[0mdf2\u001b[0m\u001b[1;33m,\u001b[0m \u001b[0mdf1\u001b[0m\u001b[1;33m)\u001b[0m\u001b[1;33m\u001b[0m\u001b[0m\n",
      "\u001b[1;31mKeyboardInterrupt\u001b[0m: "
     ]
    }
   ],
   "source": [
    "monitorgainloss(60)"
   ]
  },
  {
   "cell_type": "markdown",
   "metadata": {},
   "source": [
    "Alternating 0 values / nonzero values with interval = 30 s suggests some kind of weird behavior -- either bug in my code, or infrequent updates from XML. Behavior disappears with interval = 60 s. Suggests that update frequency of station status to XML is slower than every 30 s, but at least every 60 s.\n",
    "\n",
    "Also, at least around 17:45 on a weekday, there's tons of traffic every 60 seconds! Something like 10 bikes in/10 bikes out every minute, which may somewhat underestimate the true flux (since one checkout and one return happening at the same station within the same interval cancels out).\n",
    "\n",
    "### Future directions\n",
    "\n",
    "- Can I map where bikes are coming from/going? Drawing the map from scratch each time is pretty slow, so it would be nice to precalculate the base map somehow.\n",
    "\n",
    "- Collect gain and loss data for a full diurnal cycle -- expect to see rush hours, morning inflow/evening outflow, maybe other patterns (lunch, bars?). Requires saving each `comparedata` return to an array."
   ]
  }
 ],
 "metadata": {
  "kernelspec": {
   "display_name": "Python 2",
   "language": "python",
   "name": "python2"
  },
  "language_info": {
   "codemirror_mode": {
    "name": "ipython",
    "version": 2
   },
   "file_extension": ".py",
   "mimetype": "text/x-python",
   "name": "python",
   "nbconvert_exporter": "python",
   "pygments_lexer": "ipython2",
   "version": "2.7.10"
  }
 },
 "nbformat": 4,
 "nbformat_minor": 0
}
