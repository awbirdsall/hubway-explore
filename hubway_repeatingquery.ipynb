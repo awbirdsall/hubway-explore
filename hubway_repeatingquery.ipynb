{
 "cells": [
  {
   "cell_type": "markdown",
   "metadata": {},
   "source": [
    "# Repeatedly querying Hubway status"
   ]
  },
  {
   "cell_type": "code",
   "execution_count": 1,
   "metadata": {
    "collapsed": true
   },
   "outputs": [],
   "source": [
    "from pylab import rcParams\n",
    "%matplotlib inline\n",
    "rcParams['figure.figsize'] = (8,6)\n",
    "\n",
    "import urllib\n",
    "from lxml import etree\n",
    "import datetime\n",
    "from mpl_toolkits.basemap import Basemap\n",
    "import matplotlib.pyplot as plt\n",
    "import pandas as pd\n",
    "import schedule\n",
    "import time"
   ]
  },
  {
   "cell_type": "markdown",
   "metadata": {},
   "source": [
    "## Periodically print the most recently updated station\n",
    "\n",
    "Simplest thing is just to reload and reanalyze the XML file periodically:"
   ]
  },
  {
   "cell_type": "code",
   "execution_count": 2,
   "metadata": {
    "collapsed": true
   },
   "outputs": [],
   "source": [
    "def printmostrecent():\n",
    "    data = etree.parse(urllib.urlopen('http://www.thehubway.com/data/stations/bikeStations.xml'))\n",
    "    stations = data.findall('station')\n",
    "    everything = [[elt.text for elt in station.getchildren()] for station in stations]\n",
    "    df = pd.DataFrame(everything, columns = [elt.tag for elt in data.find('station')]).convert_objects(convert_numeric=True)\n",
    "    df.set_index('name', inplace=True)\n",
    "    mostrecent = df.sort('latestUpdateTime', ascending=False).head(1)\n",
    "    recentname = mostrecent.index.to_native_types()[0]\n",
    "    recenttime = datetime.datetime.fromtimestamp(mostrecent['latestUpdateTime']/1.e3)\n",
    "    print \"Latest updated station was {} at {}.\".format(recentname, recenttime)"
   ]
  },
  {
   "cell_type": "markdown",
   "metadata": {},
   "source": [
    "Try using python `schedule` module to repeatedly run one of these lookups."
   ]
  },
  {
   "cell_type": "code",
   "execution_count": 17,
   "metadata": {
    "collapsed": false
   },
   "outputs": [],
   "source": [
    "def repeatmostrecent(seconds):\n",
    "    schedule.clear()\n",
    "    schedule.every(seconds).seconds.do(printmostrecent)\n",
    "    while True:\n",
    "        schedule.run_pending()\n",
    "        time.sleep(1)"
   ]
  },
  {
   "cell_type": "markdown",
   "metadata": {},
   "source": [
    "Similarly, can also count how many stations have been updated recently."
   ]
  },
  {
   "cell_type": "code",
   "execution_count": 4,
   "metadata": {
    "collapsed": true
   },
   "outputs": [],
   "source": [
    "def enumerateupdated(minutes):\n",
    "    data = etree.parse(urllib.urlopen('http://www.thehubway.com/data/stations/bikeStations.xml'))\n",
    "    stations = data.findall('station')\n",
    "    everything = [[elt.text for elt in station.getchildren()] for station in stations]\n",
    "    df = pd.DataFrame(everything, columns = [elt.tag for elt in data.find('station')]).convert_objects(convert_numeric=True)\n",
    "    df.set_index('name', inplace=True)\n",
    "    timeago = (time.time() - df['latestUpdateTime']/1e3)\n",
    "    updated = timeago <= minutes * 60\n",
    "    numupdated = len(df[updated].index)\n",
    "    print \"In the past {} minutes, {} stations have updated.\".format(minutes, numupdated)"
   ]
  },
  {
   "cell_type": "code",
   "execution_count": 18,
   "metadata": {
    "collapsed": false,
    "scrolled": false
   },
   "outputs": [
    {
     "name": "stdout",
     "output_type": "stream",
     "text": [
      "Latest updated station was Buswell St. at Park Dr. at 2015-09-30 11:57:54.612000.\n",
      "Latest updated station was Buswell St. at Park Dr. at 2015-09-30 11:57:54.612000.\n",
      "Latest updated station was Buswell St. at Park Dr. at 2015-09-30 11:57:54.612000.\n",
      "Latest updated station was Buswell St. at Park Dr. at 2015-09-30 11:57:54.612000.\n",
      "Latest updated station was Kenmore Sq / Comm Ave at 2015-09-30 11:59:56.182000.\n",
      "Latest updated station was Kenmore Sq / Comm Ave at 2015-09-30 11:59:56.182000.\n",
      "Latest updated station was Kenmore Sq / Comm Ave at 2015-09-30 11:59:56.182000.\n",
      "Latest updated station was Kenmore Sq / Comm Ave at 2015-09-30 11:59:56.182000.\n",
      "Latest updated station was Harvard University Gund Hall at Quincy St / Kirkland S at 2015-09-30 12:00:39.561000.\n",
      "Latest updated station was Harvard University Gund Hall at Quincy St / Kirkland S at 2015-09-30 12:00:39.561000.\n",
      "Latest updated station was Harvard University Gund Hall at Quincy St / Kirkland S at 2015-09-30 12:00:39.561000.\n"
     ]
    },
    {
     "ename": "KeyboardInterrupt",
     "evalue": "",
     "output_type": "error",
     "traceback": [
      "\u001b[1;31m---------------------------------------------------------------------------\u001b[0m",
      "\u001b[1;31mKeyboardInterrupt\u001b[0m                         Traceback (most recent call last)",
      "\u001b[1;32m<ipython-input-18-50de7f4509f8>\u001b[0m in \u001b[0;36m<module>\u001b[1;34m()\u001b[0m\n\u001b[1;32m----> 1\u001b[1;33m \u001b[0mrepeatmostrecent\u001b[0m\u001b[1;33m(\u001b[0m\u001b[1;36m15\u001b[0m\u001b[1;33m)\u001b[0m\u001b[1;33m\u001b[0m\u001b[0m\n\u001b[0m",
      "\u001b[1;32m<ipython-input-17-6ada4cf4056d>\u001b[0m in \u001b[0;36mrepeatmostrecent\u001b[1;34m(seconds)\u001b[0m\n\u001b[0;32m      4\u001b[0m     \u001b[1;32mwhile\u001b[0m \u001b[0mTrue\u001b[0m\u001b[1;33m:\u001b[0m\u001b[1;33m\u001b[0m\u001b[0m\n\u001b[0;32m      5\u001b[0m         \u001b[0mschedule\u001b[0m\u001b[1;33m.\u001b[0m\u001b[0mrun_pending\u001b[0m\u001b[1;33m(\u001b[0m\u001b[1;33m)\u001b[0m\u001b[1;33m\u001b[0m\u001b[0m\n\u001b[1;32m----> 6\u001b[1;33m         \u001b[0mtime\u001b[0m\u001b[1;33m.\u001b[0m\u001b[0msleep\u001b[0m\u001b[1;33m(\u001b[0m\u001b[1;36m1\u001b[0m\u001b[1;33m)\u001b[0m\u001b[1;33m\u001b[0m\u001b[0m\n\u001b[0m",
      "\u001b[1;31mKeyboardInterrupt\u001b[0m: "
     ]
    }
   ],
   "source": [
    "repeatmostrecent(15)"
   ]
  },
  {
   "cell_type": "code",
   "execution_count": 20,
   "metadata": {
    "collapsed": false
   },
   "outputs": [],
   "source": [
    "def repeatupdated(secondsrefresh, minutesback):\n",
    "    schedule.clear()\n",
    "    schedule.every(secondsrefresh).seconds.do(enumerateupdated, minutesback)\n",
    "    while True:\n",
    "        schedule.run_pending()\n",
    "        time.sleep(1)"
   ]
  },
  {
   "cell_type": "code",
   "execution_count": 23,
   "metadata": {
    "collapsed": false
   },
   "outputs": [
    {
     "name": "stdout",
     "output_type": "stream",
     "text": [
      "In the past 5 minutes, 51 stations have updated.\n",
      "In the past 5 minutes, 46 stations have updated.\n",
      "In the past 5 minutes, 45 stations have updated.\n",
      "In the past 5 minutes, 52 stations have updated.\n",
      "In the past 5 minutes, 50 stations have updated.\n",
      "In the past 5 minutes, 49 stations have updated.\n",
      "In the past 5 minutes, 47 stations have updated.\n",
      "In the past 5 minutes, 49 stations have updated.\n"
     ]
    },
    {
     "ename": "KeyboardInterrupt",
     "evalue": "",
     "output_type": "error",
     "traceback": [
      "\u001b[1;31m---------------------------------------------------------------------------\u001b[0m",
      "\u001b[1;31mKeyboardInterrupt\u001b[0m                         Traceback (most recent call last)",
      "\u001b[1;32m<ipython-input-23-d6a43ab1420d>\u001b[0m in \u001b[0;36m<module>\u001b[1;34m()\u001b[0m\n\u001b[1;32m----> 1\u001b[1;33m \u001b[0mrepeatupdated\u001b[0m\u001b[1;33m(\u001b[0m\u001b[1;36m15\u001b[0m\u001b[1;33m,\u001b[0m \u001b[1;36m5\u001b[0m\u001b[1;33m)\u001b[0m\u001b[1;33m\u001b[0m\u001b[0m\n\u001b[0m",
      "\u001b[1;32m<ipython-input-20-cb2b64927c87>\u001b[0m in \u001b[0;36mrepeatupdated\u001b[1;34m(secondsrefresh, minutesback)\u001b[0m\n\u001b[0;32m      4\u001b[0m     \u001b[1;32mwhile\u001b[0m \u001b[0mTrue\u001b[0m\u001b[1;33m:\u001b[0m\u001b[1;33m\u001b[0m\u001b[0m\n\u001b[0;32m      5\u001b[0m         \u001b[0mschedule\u001b[0m\u001b[1;33m.\u001b[0m\u001b[0mrun_pending\u001b[0m\u001b[1;33m(\u001b[0m\u001b[1;33m)\u001b[0m\u001b[1;33m\u001b[0m\u001b[0m\n\u001b[1;32m----> 6\u001b[1;33m         \u001b[0mtime\u001b[0m\u001b[1;33m.\u001b[0m\u001b[0msleep\u001b[0m\u001b[1;33m(\u001b[0m\u001b[1;36m1\u001b[0m\u001b[1;33m)\u001b[0m\u001b[1;33m\u001b[0m\u001b[0m\n\u001b[0m",
      "\u001b[1;31mKeyboardInterrupt\u001b[0m: "
     ]
    }
   ],
   "source": [
    "repeatupdated(15, 5)"
   ]
  },
  {
   "cell_type": "markdown",
   "metadata": {},
   "source": [
    "A little more complicated is to compare the reloaded data to the previous data. This lets you figure out, e.g., if a bike has been checked out or returned."
   ]
  }
 ],
 "metadata": {
  "kernelspec": {
   "display_name": "Python 2",
   "language": "python",
   "name": "python2"
  },
  "language_info": {
   "codemirror_mode": {
    "name": "ipython",
    "version": 2
   },
   "file_extension": ".py",
   "mimetype": "text/x-python",
   "name": "python",
   "nbconvert_exporter": "python",
   "pygments_lexer": "ipython2",
   "version": "2.7.10"
  }
 },
 "nbformat": 4,
 "nbformat_minor": 0
}
