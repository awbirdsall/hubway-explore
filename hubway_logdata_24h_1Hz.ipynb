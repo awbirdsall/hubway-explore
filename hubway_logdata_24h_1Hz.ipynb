{
 "cells": [
  {
   "cell_type": "markdown",
   "metadata": {},
   "source": [
    "# Log data  from Hubway for 24 h, 1 Hz\n",
    "\n",
    "6 Oct 2015"
   ]
  },
  {
   "cell_type": "code",
   "execution_count": 2,
   "metadata": {
    "collapsed": true
   },
   "outputs": [],
   "source": [
    "from pylab import rcParams\n",
    "%matplotlib inline\n",
    "rcParams['figure.figsize'] = (8,6)\n",
    "\n",
    "import contextlib\n",
    "import urllib\n",
    "from lxml import etree\n",
    "import datetime\n",
    "import pandas as pd\n",
    "import time\n",
    "import os"
   ]
  },
  {
   "cell_type": "code",
   "execution_count": 3,
   "metadata": {
    "collapsed": true
   },
   "outputs": [],
   "source": [
    "def getupdate():\n",
    "    u = 'http://www.thehubway.com/data/stations/bikeStations.xml'\n",
    "    # tweak of urlopen from hubway_repeatingquery, see http://stackoverflow.com/a/1522709\n",
    "    with contextlib.closing(urllib.urlopen(u)) as x:\n",
    "        data = etree.parse(x)\n",
    "    stations = data.findall('station')\n",
    "    everything = [[elt.text for elt in station.getchildren()] for station in stations]\n",
    "    df = pd.DataFrame(everything, columns = [elt.tag for elt in data.find('station')]).convert_objects(convert_numeric=True)\n",
    "    df.set_index('name', inplace=True)\n",
    "    return df"
   ]
  },
  {
   "cell_type": "code",
   "execution_count": 9,
   "metadata": {
    "collapsed": true
   },
   "outputs": [],
   "source": [
    "def logdata(q1, q2, interval, numpts):\n",
    "    df = getupdate()\n",
    "    dflog1 = pd.DataFrame(df[q1])\n",
    "    dflog1.columns = [datetime.datetime.today()]\n",
    "    dflog2 = pd.DataFrame(df[q2])\n",
    "    dflog2.columns = [datetime.datetime.today()]\n",
    "    i = 1\n",
    "    while i < numpts:\n",
    "        time.sleep(interval)\n",
    "        df = getupdate()\n",
    "        dflog1[datetime.datetime.today()] = df[q1]\n",
    "        dflog2[datetime.datetime.today()] = df[q2]\n",
    "        i = i+1\n",
    "        if i % 60 == 0:\n",
    "            print 'completed {} of {}'.format(i, numpts)\n",
    "    return dflog1.transpose(), dflog2.transpose()"
   ]
  },
  {
   "cell_type": "code",
   "execution_count": null,
   "metadata": {
    "collapsed": false
   },
   "outputs": [],
   "source": [
    "# let's let it run for a 24 hour at 1 Hz...\n",
    "# start around midnight to get nice diurnal cycle\n",
    "time.sleep(60*60*6)\n",
    "bikelog, docklog = logdata('nbBikes', 'nbEmptyDocks', 60, 60*60*24)"
   ]
  },
  {
   "cell_type": "code",
   "execution_count": null,
   "metadata": {
    "collapsed": false
   },
   "outputs": [],
   "source": [
    "bikelog.head()"
   ]
  },
  {
   "cell_type": "markdown",
   "metadata": {},
   "source": [
    "## Export logdata to CSV"
   ]
  },
  {
   "cell_type": "code",
   "execution_count": null,
   "metadata": {
    "collapsed": true
   },
   "outputs": [],
   "source": [
    "bikelog.to_csv('bikelog_100715.csv')\n",
    "docklog.to_csv('docklog_100715.csv')"
   ]
  }
 ],
 "metadata": {
  "kernelspec": {
   "display_name": "Python 2",
   "language": "python",
   "name": "python2"
  },
  "language_info": {
   "codemirror_mode": {
    "name": "ipython",
    "version": 2
   },
   "file_extension": ".py",
   "mimetype": "text/x-python",
   "name": "python",
   "nbconvert_exporter": "python",
   "pygments_lexer": "ipython2",
   "version": "2.7.10"
  }
 },
 "nbformat": 4,
 "nbformat_minor": 0
}
