{
 "cells": [
  {
   "cell_type": "markdown",
   "metadata": {},
   "source": [
    "# Log data  from Hubway\n",
    "\n",
    "2 Oct 2015"
   ]
  },
  {
   "cell_type": "code",
   "execution_count": 145,
   "metadata": {
    "collapsed": true
   },
   "outputs": [],
   "source": [
    "from pylab import rcParams\n",
    "%matplotlib inline\n",
    "rcParams['figure.figsize'] = (8,6)\n",
    "\n",
    "import contextlib\n",
    "import urllib\n",
    "from lxml import etree\n",
    "import datetime\n",
    "import pandas as pd\n",
    "import time\n",
    "import os"
   ]
  },
  {
   "cell_type": "code",
   "execution_count": 2,
   "metadata": {
    "collapsed": true
   },
   "outputs": [],
   "source": [
    "def getupdate():\n",
    "    u = 'http://www.thehubway.com/data/stations/bikeStations.xml'\n",
    "    # tweak of urlopen from hubway_repeatingquery, see http://stackoverflow.com/a/1522709\n",
    "    with contextlib.closing(urllib.urlopen(u)) as x:\n",
    "        data = etree.parse(x)\n",
    "    stations = data.findall('station')\n",
    "    everything = [[elt.text for elt in station.getchildren()] for station in stations]\n",
    "    df = pd.DataFrame(everything, columns = [elt.tag for elt in data.find('station')]).convert_objects(convert_numeric=True)\n",
    "    df.set_index('name', inplace=True)\n",
    "    return df"
   ]
  },
  {
   "cell_type": "code",
   "execution_count": 38,
   "metadata": {
    "collapsed": true
   },
   "outputs": [],
   "source": [
    "# Make DataFrame of number of bikes available\n",
    "# columns of station names, rows of timestamps\n",
    "# based on http://stackoverflow.com/a/17496530\n",
    "def logdatabyrow(interval, numpts):\n",
    "    i = 0\n",
    "    rowslist = []\n",
    "    tstamplist = []\n",
    "    while i < numpts:\n",
    "        df = getupdate()\n",
    "        rowdict = {k:v for k, v in zip(df.index, df['nbBikes'])}\n",
    "        rowslist.append(rowdict)\n",
    "        tstamplist.append(time.time())\n",
    "        i = i+1\n",
    "        time.sleep(interval)\n",
    "    dflog = pd.DataFrame(rowslist, index = tstamplist)\n",
    "    return dflog"
   ]
  },
  {
   "cell_type": "code",
   "execution_count": 41,
   "metadata": {
    "collapsed": false
   },
   "outputs": [
    {
     "data": {
      "text/html": [
       "<div>\n",
       "<table border=\"1\" class=\"dataframe\">\n",
       "  <thead>\n",
       "    <tr style=\"text-align: right;\">\n",
       "      <th></th>\n",
       "      <th>359 Broadway - Broadway at Fayette Street</th>\n",
       "      <th>Agganis Arena - 925 Comm Ave.</th>\n",
       "      <th>Alewife Station at Russell Field</th>\n",
       "      <th>Allston Green District - Commonwealth Ave &amp; Griggs St</th>\n",
       "      <th>Ames St at Main St</th>\n",
       "      <th>Andrew Station - Dorchester Ave at Humboldt Pl</th>\n",
       "      <th>Aquarium Station - 200 Atlantic Ave.</th>\n",
       "      <th>B.U. Central - 725 Comm. Ave.</th>\n",
       "      <th>BIDMC - Brookline at Burlington St</th>\n",
       "      <th>Back Bay / South End Station</th>\n",
       "      <th>...</th>\n",
       "      <th>Union Square - Brighton Ave. at Cambridge St.</th>\n",
       "      <th>Union Square - Somerville</th>\n",
       "      <th>Upham's Corner - Ramsey St at Dudley St</th>\n",
       "      <th>Washington Square at Washington St. / Beacon St.</th>\n",
       "      <th>Washington St. at Lenox St.</th>\n",
       "      <th>Washington St. at Rutland St.</th>\n",
       "      <th>Washington St. at Waltham St.</th>\n",
       "      <th>West Broadway at Dorchester St</th>\n",
       "      <th>Wilson Square</th>\n",
       "      <th>Yawkey Way at Boylston St.</th>\n",
       "    </tr>\n",
       "  </thead>\n",
       "  <tbody>\n",
       "    <tr>\n",
       "      <th>1.443791e+09</th>\n",
       "      <td>4</td>\n",
       "      <td>17</td>\n",
       "      <td>13</td>\n",
       "      <td>2</td>\n",
       "      <td>17</td>\n",
       "      <td>0</td>\n",
       "      <td>11</td>\n",
       "      <td>9</td>\n",
       "      <td>6</td>\n",
       "      <td>0</td>\n",
       "      <td>...</td>\n",
       "      <td>10</td>\n",
       "      <td>8</td>\n",
       "      <td>6</td>\n",
       "      <td>8</td>\n",
       "      <td>5</td>\n",
       "      <td>0</td>\n",
       "      <td>1</td>\n",
       "      <td>2</td>\n",
       "      <td>1</td>\n",
       "      <td>3</td>\n",
       "    </tr>\n",
       "    <tr>\n",
       "      <th>1.443791e+09</th>\n",
       "      <td>4</td>\n",
       "      <td>17</td>\n",
       "      <td>13</td>\n",
       "      <td>2</td>\n",
       "      <td>17</td>\n",
       "      <td>0</td>\n",
       "      <td>12</td>\n",
       "      <td>9</td>\n",
       "      <td>6</td>\n",
       "      <td>0</td>\n",
       "      <td>...</td>\n",
       "      <td>10</td>\n",
       "      <td>8</td>\n",
       "      <td>6</td>\n",
       "      <td>8</td>\n",
       "      <td>5</td>\n",
       "      <td>0</td>\n",
       "      <td>1</td>\n",
       "      <td>2</td>\n",
       "      <td>1</td>\n",
       "      <td>3</td>\n",
       "    </tr>\n",
       "  </tbody>\n",
       "</table>\n",
       "<p>2 rows × 139 columns</p>\n",
       "</div>"
      ],
      "text/plain": [
       "              359 Broadway - Broadway at Fayette Street  \\\n",
       "1.443791e+09                                          4   \n",
       "1.443791e+09                                          4   \n",
       "\n",
       "              Agganis Arena - 925 Comm Ave.  Alewife Station at Russell Field  \\\n",
       "1.443791e+09                             17                                13   \n",
       "1.443791e+09                             17                                13   \n",
       "\n",
       "              Allston Green District - Commonwealth Ave & Griggs St  \\\n",
       "1.443791e+09                                                  2       \n",
       "1.443791e+09                                                  2       \n",
       "\n",
       "              Ames St at Main St  \\\n",
       "1.443791e+09                  17   \n",
       "1.443791e+09                  17   \n",
       "\n",
       "              Andrew Station - Dorchester Ave at Humboldt Pl  \\\n",
       "1.443791e+09                                               0   \n",
       "1.443791e+09                                               0   \n",
       "\n",
       "              Aquarium Station - 200 Atlantic Ave.  \\\n",
       "1.443791e+09                                    11   \n",
       "1.443791e+09                                    12   \n",
       "\n",
       "              B.U. Central - 725 Comm. Ave.  \\\n",
       "1.443791e+09                              9   \n",
       "1.443791e+09                              9   \n",
       "\n",
       "              BIDMC - Brookline at Burlington St  \\\n",
       "1.443791e+09                                   6   \n",
       "1.443791e+09                                   6   \n",
       "\n",
       "              Back Bay / South End Station             ...              \\\n",
       "1.443791e+09                             0             ...               \n",
       "1.443791e+09                             0             ...               \n",
       "\n",
       "              Union Square - Brighton Ave. at Cambridge St.  \\\n",
       "1.443791e+09                                             10   \n",
       "1.443791e+09                                             10   \n",
       "\n",
       "              Union Square - Somerville  \\\n",
       "1.443791e+09                          8   \n",
       "1.443791e+09                          8   \n",
       "\n",
       "              Upham's Corner - Ramsey St at Dudley St  \\\n",
       "1.443791e+09                                        6   \n",
       "1.443791e+09                                        6   \n",
       "\n",
       "              Washington Square at Washington St. / Beacon St.  \\\n",
       "1.443791e+09                                                 8   \n",
       "1.443791e+09                                                 8   \n",
       "\n",
       "              Washington St. at Lenox St.  Washington St. at Rutland St.  \\\n",
       "1.443791e+09                            5                              0   \n",
       "1.443791e+09                            5                              0   \n",
       "\n",
       "              Washington St. at Waltham St.  West Broadway at Dorchester St  \\\n",
       "1.443791e+09                              1                               2   \n",
       "1.443791e+09                              1                               2   \n",
       "\n",
       "              Wilson Square  Yawkey Way at Boylston St.  \n",
       "1.443791e+09              1                           3  \n",
       "1.443791e+09              1                           3  \n",
       "\n",
       "[2 rows x 139 columns]"
      ]
     },
     "execution_count": 41,
     "metadata": {},
     "output_type": "execute_result"
    }
   ],
   "source": [
    "df2 = logdatabyrow(60, 2)\n",
    "df2"
   ]
  },
  {
   "cell_type": "code",
   "execution_count": 99,
   "metadata": {
    "collapsed": true
   },
   "outputs": [],
   "source": [
    "# alt: cols of timestamps, rows of station names, then transpose\n",
    "# use datetime.today() rather than time.time() to get nice\n",
    "# pandas DateTimeIndex\n",
    "def logdata(quantity, interval, numpts):\n",
    "    df = getupdate()\n",
    "    dflog = pd.DataFrame(df[quantity])\n",
    "    dflog.columns = [datetime.datetime.today()]\n",
    "    i = 1\n",
    "    while i < numpts:\n",
    "        time.sleep(interval)\n",
    "        df = getupdate()\n",
    "        dflog[datetime.datetime.today()] = df[quantity]\n",
    "        i = i+1\n",
    "    return dflog.transpose()"
   ]
  },
  {
   "cell_type": "code",
   "execution_count": 93,
   "metadata": {
    "collapsed": false,
    "scrolled": true
   },
   "outputs": [],
   "source": [
    "minilog = logdata('nbBikes', 60, 3)"
   ]
  },
  {
   "cell_type": "code",
   "execution_count": 94,
   "metadata": {
    "collapsed": false,
    "scrolled": true
   },
   "outputs": [
    {
     "data": {
      "text/html": [
       "<div>\n",
       "<table border=\"1\" class=\"dataframe\">\n",
       "  <thead>\n",
       "    <tr style=\"text-align: right;\">\n",
       "      <th>name</th>\n",
       "      <th>Colleges of the Fenway</th>\n",
       "      <th>Tremont St. at Berkeley St.</th>\n",
       "      <th>Northeastern U / North Parking Lot</th>\n",
       "      <th>Cambridge St. at Joy St.</th>\n",
       "      <th>Fan Pier</th>\n",
       "      <th>Union Square - Brighton Ave. at Cambridge St.</th>\n",
       "      <th>Agganis Arena - 925 Comm Ave.</th>\n",
       "      <th>B.U. Central - 725 Comm. Ave.</th>\n",
       "      <th>Longwood Ave / Binney St</th>\n",
       "      <th>Ruggles Station / Columbus Ave.</th>\n",
       "      <th>...</th>\n",
       "      <th>Dana Park</th>\n",
       "      <th>Danehy Park</th>\n",
       "      <th>Kendall Street</th>\n",
       "      <th>Alewife Station at Russell Field</th>\n",
       "      <th>EF - North Point Park</th>\n",
       "      <th>Rindge Avenue - O'Neill Library</th>\n",
       "      <th>Harvard University Transportation Services - 175 North Harvard St</th>\n",
       "      <th>State Street at Channel Center</th>\n",
       "      <th>John F Fitzgerald - Surface Road at India Street</th>\n",
       "      <th>Ink Block</th>\n",
       "    </tr>\n",
       "  </thead>\n",
       "  <tbody>\n",
       "    <tr>\n",
       "      <th>2015-10-02 10:40:56.817</th>\n",
       "      <td>2</td>\n",
       "      <td>5</td>\n",
       "      <td>2</td>\n",
       "      <td>1</td>\n",
       "      <td>7</td>\n",
       "      <td>10</td>\n",
       "      <td>16</td>\n",
       "      <td>10</td>\n",
       "      <td>10</td>\n",
       "      <td>10</td>\n",
       "      <td>...</td>\n",
       "      <td>3</td>\n",
       "      <td>7</td>\n",
       "      <td>12</td>\n",
       "      <td>16</td>\n",
       "      <td>7</td>\n",
       "      <td>9</td>\n",
       "      <td>11</td>\n",
       "      <td>3</td>\n",
       "      <td>12</td>\n",
       "      <td>4</td>\n",
       "    </tr>\n",
       "    <tr>\n",
       "      <th>2015-10-02 10:41:56.914</th>\n",
       "      <td>2</td>\n",
       "      <td>5</td>\n",
       "      <td>2</td>\n",
       "      <td>1</td>\n",
       "      <td>7</td>\n",
       "      <td>10</td>\n",
       "      <td>16</td>\n",
       "      <td>10</td>\n",
       "      <td>8</td>\n",
       "      <td>10</td>\n",
       "      <td>...</td>\n",
       "      <td>3</td>\n",
       "      <td>7</td>\n",
       "      <td>12</td>\n",
       "      <td>16</td>\n",
       "      <td>7</td>\n",
       "      <td>9</td>\n",
       "      <td>11</td>\n",
       "      <td>3</td>\n",
       "      <td>12</td>\n",
       "      <td>4</td>\n",
       "    </tr>\n",
       "    <tr>\n",
       "      <th>2015-10-02 10:42:56.999</th>\n",
       "      <td>2</td>\n",
       "      <td>5</td>\n",
       "      <td>2</td>\n",
       "      <td>1</td>\n",
       "      <td>7</td>\n",
       "      <td>10</td>\n",
       "      <td>16</td>\n",
       "      <td>10</td>\n",
       "      <td>8</td>\n",
       "      <td>10</td>\n",
       "      <td>...</td>\n",
       "      <td>3</td>\n",
       "      <td>7</td>\n",
       "      <td>13</td>\n",
       "      <td>16</td>\n",
       "      <td>7</td>\n",
       "      <td>9</td>\n",
       "      <td>11</td>\n",
       "      <td>3</td>\n",
       "      <td>12</td>\n",
       "      <td>4</td>\n",
       "    </tr>\n",
       "  </tbody>\n",
       "</table>\n",
       "<p>3 rows × 139 columns</p>\n",
       "</div>"
      ],
      "text/plain": [
       "name                     Colleges of the Fenway  Tremont St. at Berkeley St.  \\\n",
       "2015-10-02 10:40:56.817                       2                            5   \n",
       "2015-10-02 10:41:56.914                       2                            5   \n",
       "2015-10-02 10:42:56.999                       2                            5   \n",
       "\n",
       "name                     Northeastern U / North Parking Lot  \\\n",
       "2015-10-02 10:40:56.817                                   2   \n",
       "2015-10-02 10:41:56.914                                   2   \n",
       "2015-10-02 10:42:56.999                                   2   \n",
       "\n",
       "name                     Cambridge St. at Joy St.  Fan Pier  \\\n",
       "2015-10-02 10:40:56.817                         1         7   \n",
       "2015-10-02 10:41:56.914                         1         7   \n",
       "2015-10-02 10:42:56.999                         1         7   \n",
       "\n",
       "name                     Union Square - Brighton Ave. at Cambridge St.  \\\n",
       "2015-10-02 10:40:56.817                                             10   \n",
       "2015-10-02 10:41:56.914                                             10   \n",
       "2015-10-02 10:42:56.999                                             10   \n",
       "\n",
       "name                     Agganis Arena - 925 Comm Ave.  \\\n",
       "2015-10-02 10:40:56.817                             16   \n",
       "2015-10-02 10:41:56.914                             16   \n",
       "2015-10-02 10:42:56.999                             16   \n",
       "\n",
       "name                     B.U. Central - 725 Comm. Ave.  \\\n",
       "2015-10-02 10:40:56.817                             10   \n",
       "2015-10-02 10:41:56.914                             10   \n",
       "2015-10-02 10:42:56.999                             10   \n",
       "\n",
       "name                     Longwood Ave / Binney St  \\\n",
       "2015-10-02 10:40:56.817                        10   \n",
       "2015-10-02 10:41:56.914                         8   \n",
       "2015-10-02 10:42:56.999                         8   \n",
       "\n",
       "name                     Ruggles Station / Columbus Ave.    ...      \\\n",
       "2015-10-02 10:40:56.817                               10    ...       \n",
       "2015-10-02 10:41:56.914                               10    ...       \n",
       "2015-10-02 10:42:56.999                               10    ...       \n",
       "\n",
       "name                     Dana Park  Danehy Park  Kendall Street  \\\n",
       "2015-10-02 10:40:56.817          3            7              12   \n",
       "2015-10-02 10:41:56.914          3            7              12   \n",
       "2015-10-02 10:42:56.999          3            7              13   \n",
       "\n",
       "name                     Alewife Station at Russell Field  \\\n",
       "2015-10-02 10:40:56.817                                16   \n",
       "2015-10-02 10:41:56.914                                16   \n",
       "2015-10-02 10:42:56.999                                16   \n",
       "\n",
       "name                     EF - North Point Park  \\\n",
       "2015-10-02 10:40:56.817                      7   \n",
       "2015-10-02 10:41:56.914                      7   \n",
       "2015-10-02 10:42:56.999                      7   \n",
       "\n",
       "name                     Rindge Avenue - O'Neill Library  \\\n",
       "2015-10-02 10:40:56.817                                9   \n",
       "2015-10-02 10:41:56.914                                9   \n",
       "2015-10-02 10:42:56.999                                9   \n",
       "\n",
       "name                     Harvard University Transportation Services - 175 North Harvard St  \\\n",
       "2015-10-02 10:40:56.817                                                 11                   \n",
       "2015-10-02 10:41:56.914                                                 11                   \n",
       "2015-10-02 10:42:56.999                                                 11                   \n",
       "\n",
       "name                     State Street at Channel Center  \\\n",
       "2015-10-02 10:40:56.817                               3   \n",
       "2015-10-02 10:41:56.914                               3   \n",
       "2015-10-02 10:42:56.999                               3   \n",
       "\n",
       "name                     John F Fitzgerald - Surface Road at India Street  \\\n",
       "2015-10-02 10:40:56.817                                                12   \n",
       "2015-10-02 10:41:56.914                                                12   \n",
       "2015-10-02 10:42:56.999                                                12   \n",
       "\n",
       "name                     Ink Block  \n",
       "2015-10-02 10:40:56.817          4  \n",
       "2015-10-02 10:41:56.914          4  \n",
       "2015-10-02 10:42:56.999          4  \n",
       "\n",
       "[3 rows x 139 columns]"
      ]
     },
     "execution_count": 94,
     "metadata": {},
     "output_type": "execute_result"
    }
   ],
   "source": [
    "minilog"
   ]
  },
  {
   "cell_type": "code",
   "execution_count": 100,
   "metadata": {
    "collapsed": false
   },
   "outputs": [],
   "source": [
    "# let's let it run for an hour at 1 Hz.\n",
    "bikelog = logdata('nbBikes', 60, 60)"
   ]
  },
  {
   "cell_type": "markdown",
   "metadata": {},
   "source": [
    "One problem with current `logdata` function is it doesn't run in the background -- it would be nice to have it asynchronous somehow. Or, easier, it might be better if it could accept a list of quantities to track as an argument and then spit out a list of DataFrames as output."
   ]
  },
  {
   "cell_type": "code",
   "execution_count": 102,
   "metadata": {
    "collapsed": false
   },
   "outputs": [
    {
     "data": {
      "text/html": [
       "<div>\n",
       "<table border=\"1\" class=\"dataframe\">\n",
       "  <thead>\n",
       "    <tr style=\"text-align: right;\">\n",
       "      <th>name</th>\n",
       "      <th>Colleges of the Fenway</th>\n",
       "      <th>Tremont St. at Berkeley St.</th>\n",
       "      <th>Northeastern U / North Parking Lot</th>\n",
       "      <th>Cambridge St. at Joy St.</th>\n",
       "      <th>Fan Pier</th>\n",
       "      <th>Union Square - Brighton Ave. at Cambridge St.</th>\n",
       "      <th>Agganis Arena - 925 Comm Ave.</th>\n",
       "      <th>B.U. Central - 725 Comm. Ave.</th>\n",
       "      <th>Longwood Ave / Binney St</th>\n",
       "      <th>Ruggles Station / Columbus Ave.</th>\n",
       "      <th>...</th>\n",
       "      <th>Dana Park</th>\n",
       "      <th>Danehy Park</th>\n",
       "      <th>Kendall Street</th>\n",
       "      <th>Alewife Station at Russell Field</th>\n",
       "      <th>EF - North Point Park</th>\n",
       "      <th>Rindge Avenue - O'Neill Library</th>\n",
       "      <th>Harvard University Transportation Services - 175 North Harvard St</th>\n",
       "      <th>State Street at Channel Center</th>\n",
       "      <th>John F Fitzgerald - Surface Road at India Street</th>\n",
       "      <th>Ink Block</th>\n",
       "    </tr>\n",
       "  </thead>\n",
       "  <tbody>\n",
       "    <tr>\n",
       "      <th>2015-10-02 10:46:40.589</th>\n",
       "      <td>2</td>\n",
       "      <td>5</td>\n",
       "      <td>3</td>\n",
       "      <td>1</td>\n",
       "      <td>7</td>\n",
       "      <td>10</td>\n",
       "      <td>16</td>\n",
       "      <td>10</td>\n",
       "      <td>8</td>\n",
       "      <td>10</td>\n",
       "      <td>...</td>\n",
       "      <td>3</td>\n",
       "      <td>7</td>\n",
       "      <td>13</td>\n",
       "      <td>16</td>\n",
       "      <td>7</td>\n",
       "      <td>10</td>\n",
       "      <td>11</td>\n",
       "      <td>3</td>\n",
       "      <td>12</td>\n",
       "      <td>4</td>\n",
       "    </tr>\n",
       "    <tr>\n",
       "      <th>2015-10-02 10:47:40.689</th>\n",
       "      <td>2</td>\n",
       "      <td>5</td>\n",
       "      <td>3</td>\n",
       "      <td>1</td>\n",
       "      <td>8</td>\n",
       "      <td>10</td>\n",
       "      <td>16</td>\n",
       "      <td>10</td>\n",
       "      <td>8</td>\n",
       "      <td>10</td>\n",
       "      <td>...</td>\n",
       "      <td>3</td>\n",
       "      <td>8</td>\n",
       "      <td>13</td>\n",
       "      <td>16</td>\n",
       "      <td>7</td>\n",
       "      <td>10</td>\n",
       "      <td>11</td>\n",
       "      <td>3</td>\n",
       "      <td>12</td>\n",
       "      <td>4</td>\n",
       "    </tr>\n",
       "    <tr>\n",
       "      <th>2015-10-02 10:48:40.789</th>\n",
       "      <td>2</td>\n",
       "      <td>5</td>\n",
       "      <td>3</td>\n",
       "      <td>1</td>\n",
       "      <td>8</td>\n",
       "      <td>10</td>\n",
       "      <td>16</td>\n",
       "      <td>10</td>\n",
       "      <td>8</td>\n",
       "      <td>10</td>\n",
       "      <td>...</td>\n",
       "      <td>3</td>\n",
       "      <td>8</td>\n",
       "      <td>13</td>\n",
       "      <td>16</td>\n",
       "      <td>7</td>\n",
       "      <td>10</td>\n",
       "      <td>11</td>\n",
       "      <td>3</td>\n",
       "      <td>12</td>\n",
       "      <td>4</td>\n",
       "    </tr>\n",
       "    <tr>\n",
       "      <th>2015-10-02 10:49:40.891</th>\n",
       "      <td>2</td>\n",
       "      <td>5</td>\n",
       "      <td>3</td>\n",
       "      <td>1</td>\n",
       "      <td>8</td>\n",
       "      <td>10</td>\n",
       "      <td>16</td>\n",
       "      <td>11</td>\n",
       "      <td>8</td>\n",
       "      <td>10</td>\n",
       "      <td>...</td>\n",
       "      <td>3</td>\n",
       "      <td>8</td>\n",
       "      <td>13</td>\n",
       "      <td>16</td>\n",
       "      <td>7</td>\n",
       "      <td>10</td>\n",
       "      <td>11</td>\n",
       "      <td>3</td>\n",
       "      <td>12</td>\n",
       "      <td>4</td>\n",
       "    </tr>\n",
       "    <tr>\n",
       "      <th>2015-10-02 10:50:41.005</th>\n",
       "      <td>2</td>\n",
       "      <td>5</td>\n",
       "      <td>3</td>\n",
       "      <td>0</td>\n",
       "      <td>8</td>\n",
       "      <td>10</td>\n",
       "      <td>16</td>\n",
       "      <td>11</td>\n",
       "      <td>8</td>\n",
       "      <td>10</td>\n",
       "      <td>...</td>\n",
       "      <td>2</td>\n",
       "      <td>8</td>\n",
       "      <td>13</td>\n",
       "      <td>16</td>\n",
       "      <td>7</td>\n",
       "      <td>10</td>\n",
       "      <td>11</td>\n",
       "      <td>3</td>\n",
       "      <td>12</td>\n",
       "      <td>4</td>\n",
       "    </tr>\n",
       "  </tbody>\n",
       "</table>\n",
       "<p>5 rows × 139 columns</p>\n",
       "</div>"
      ],
      "text/plain": [
       "name                     Colleges of the Fenway  Tremont St. at Berkeley St.  \\\n",
       "2015-10-02 10:46:40.589                       2                            5   \n",
       "2015-10-02 10:47:40.689                       2                            5   \n",
       "2015-10-02 10:48:40.789                       2                            5   \n",
       "2015-10-02 10:49:40.891                       2                            5   \n",
       "2015-10-02 10:50:41.005                       2                            5   \n",
       "\n",
       "name                     Northeastern U / North Parking Lot  \\\n",
       "2015-10-02 10:46:40.589                                   3   \n",
       "2015-10-02 10:47:40.689                                   3   \n",
       "2015-10-02 10:48:40.789                                   3   \n",
       "2015-10-02 10:49:40.891                                   3   \n",
       "2015-10-02 10:50:41.005                                   3   \n",
       "\n",
       "name                     Cambridge St. at Joy St.  Fan Pier  \\\n",
       "2015-10-02 10:46:40.589                         1         7   \n",
       "2015-10-02 10:47:40.689                         1         8   \n",
       "2015-10-02 10:48:40.789                         1         8   \n",
       "2015-10-02 10:49:40.891                         1         8   \n",
       "2015-10-02 10:50:41.005                         0         8   \n",
       "\n",
       "name                     Union Square - Brighton Ave. at Cambridge St.  \\\n",
       "2015-10-02 10:46:40.589                                             10   \n",
       "2015-10-02 10:47:40.689                                             10   \n",
       "2015-10-02 10:48:40.789                                             10   \n",
       "2015-10-02 10:49:40.891                                             10   \n",
       "2015-10-02 10:50:41.005                                             10   \n",
       "\n",
       "name                     Agganis Arena - 925 Comm Ave.  \\\n",
       "2015-10-02 10:46:40.589                             16   \n",
       "2015-10-02 10:47:40.689                             16   \n",
       "2015-10-02 10:48:40.789                             16   \n",
       "2015-10-02 10:49:40.891                             16   \n",
       "2015-10-02 10:50:41.005                             16   \n",
       "\n",
       "name                     B.U. Central - 725 Comm. Ave.  \\\n",
       "2015-10-02 10:46:40.589                             10   \n",
       "2015-10-02 10:47:40.689                             10   \n",
       "2015-10-02 10:48:40.789                             10   \n",
       "2015-10-02 10:49:40.891                             11   \n",
       "2015-10-02 10:50:41.005                             11   \n",
       "\n",
       "name                     Longwood Ave / Binney St  \\\n",
       "2015-10-02 10:46:40.589                         8   \n",
       "2015-10-02 10:47:40.689                         8   \n",
       "2015-10-02 10:48:40.789                         8   \n",
       "2015-10-02 10:49:40.891                         8   \n",
       "2015-10-02 10:50:41.005                         8   \n",
       "\n",
       "name                     Ruggles Station / Columbus Ave.    ...      \\\n",
       "2015-10-02 10:46:40.589                               10    ...       \n",
       "2015-10-02 10:47:40.689                               10    ...       \n",
       "2015-10-02 10:48:40.789                               10    ...       \n",
       "2015-10-02 10:49:40.891                               10    ...       \n",
       "2015-10-02 10:50:41.005                               10    ...       \n",
       "\n",
       "name                     Dana Park  Danehy Park  Kendall Street  \\\n",
       "2015-10-02 10:46:40.589          3            7              13   \n",
       "2015-10-02 10:47:40.689          3            8              13   \n",
       "2015-10-02 10:48:40.789          3            8              13   \n",
       "2015-10-02 10:49:40.891          3            8              13   \n",
       "2015-10-02 10:50:41.005          2            8              13   \n",
       "\n",
       "name                     Alewife Station at Russell Field  \\\n",
       "2015-10-02 10:46:40.589                                16   \n",
       "2015-10-02 10:47:40.689                                16   \n",
       "2015-10-02 10:48:40.789                                16   \n",
       "2015-10-02 10:49:40.891                                16   \n",
       "2015-10-02 10:50:41.005                                16   \n",
       "\n",
       "name                     EF - North Point Park  \\\n",
       "2015-10-02 10:46:40.589                      7   \n",
       "2015-10-02 10:47:40.689                      7   \n",
       "2015-10-02 10:48:40.789                      7   \n",
       "2015-10-02 10:49:40.891                      7   \n",
       "2015-10-02 10:50:41.005                      7   \n",
       "\n",
       "name                     Rindge Avenue - O'Neill Library  \\\n",
       "2015-10-02 10:46:40.589                               10   \n",
       "2015-10-02 10:47:40.689                               10   \n",
       "2015-10-02 10:48:40.789                               10   \n",
       "2015-10-02 10:49:40.891                               10   \n",
       "2015-10-02 10:50:41.005                               10   \n",
       "\n",
       "name                     Harvard University Transportation Services - 175 North Harvard St  \\\n",
       "2015-10-02 10:46:40.589                                                 11                   \n",
       "2015-10-02 10:47:40.689                                                 11                   \n",
       "2015-10-02 10:48:40.789                                                 11                   \n",
       "2015-10-02 10:49:40.891                                                 11                   \n",
       "2015-10-02 10:50:41.005                                                 11                   \n",
       "\n",
       "name                     State Street at Channel Center  \\\n",
       "2015-10-02 10:46:40.589                               3   \n",
       "2015-10-02 10:47:40.689                               3   \n",
       "2015-10-02 10:48:40.789                               3   \n",
       "2015-10-02 10:49:40.891                               3   \n",
       "2015-10-02 10:50:41.005                               3   \n",
       "\n",
       "name                     John F Fitzgerald - Surface Road at India Street  \\\n",
       "2015-10-02 10:46:40.589                                                12   \n",
       "2015-10-02 10:47:40.689                                                12   \n",
       "2015-10-02 10:48:40.789                                                12   \n",
       "2015-10-02 10:49:40.891                                                12   \n",
       "2015-10-02 10:50:41.005                                                12   \n",
       "\n",
       "name                     Ink Block  \n",
       "2015-10-02 10:46:40.589          4  \n",
       "2015-10-02 10:47:40.689          4  \n",
       "2015-10-02 10:48:40.789          4  \n",
       "2015-10-02 10:49:40.891          4  \n",
       "2015-10-02 10:50:41.005          4  \n",
       "\n",
       "[5 rows x 139 columns]"
      ]
     },
     "execution_count": 102,
     "metadata": {},
     "output_type": "execute_result"
    }
   ],
   "source": [
    "bikelog.head()"
   ]
  },
  {
   "cell_type": "markdown",
   "metadata": {},
   "source": [
    "We have a dataset! Can plot a bunch of things."
   ]
  },
  {
   "cell_type": "markdown",
   "metadata": {},
   "source": [
    "All of the stations (a mess):"
   ]
  },
  {
   "cell_type": "code",
   "execution_count": 119,
   "metadata": {
    "collapsed": false
   },
   "outputs": [
    {
     "data": {
      "text/plain": [
       "<matplotlib.axes._subplots.AxesSubplot at 0xa5c1530>"
      ]
     },
     "execution_count": 119,
     "metadata": {},
     "output_type": "execute_result"
    },
    {
     "data": {
      "image/png": "[encoded data removed]",
      "text/plain": [
       "<matplotlib.figure.Figure at 0xa1e2970>"
      ]
     },
     "metadata": {},
     "output_type": "display_data"
    }
   ],
   "source": [
    "bikelog.plot(legend=False)"
   ]
  },
  {
   "cell_type": "markdown",
   "metadata": {},
   "source": [
    "Stations that lost at least 6 bikes during the interval"
   ]
  },
  {
   "cell_type": "code",
   "execution_count": 118,
   "metadata": {
    "collapsed": false
   },
   "outputs": [
    {
     "data": {
      "text/plain": [
       "<matplotlib.axes._subplots.AxesSubplot at 0xa4b58d0>"
      ]
     },
     "execution_count": 118,
     "metadata": {},
     "output_type": "execute_result"
    },
    {
     "data": {
      "image/png": "[encoded data removed]",
      "text/plain": [
       "<matplotlib.figure.Figure at 0x9f99850>"
      ]
     },
     "metadata": {},
     "output_type": "display_data"
    }
   ],
   "source": [
    "bikelog.loc[:, bikelog.ix[0] > bikelog.ix[-1] + 5].plot(legend=False)"
   ]
  },
  {
   "cell_type": "markdown",
   "metadata": {},
   "source": [
    "Stations that gained at least 6 bikes"
   ]
  },
  {
   "cell_type": "code",
   "execution_count": 121,
   "metadata": {
    "collapsed": false,
    "scrolled": true
   },
   "outputs": [
    {
     "data": {
      "text/plain": [
       "<matplotlib.axes._subplots.AxesSubplot at 0xb745c90>"
      ]
     },
     "execution_count": 121,
     "metadata": {},
     "output_type": "execute_result"
    },
    {
     "data": {
      "image/png": "[encoded data removed]",
      "text/plain": [
       "<matplotlib.figure.Figure at 0xa9e5630>"
      ]
     },
     "metadata": {},
     "output_type": "display_data"
    }
   ],
   "source": [
    "bikelog.loc[:, bikelog.ix[0] < bikelog.ix[-1] - 5].plot(legend=False)"
   ]
  },
  {
   "cell_type": "markdown",
   "metadata": {},
   "source": [
    "Stations with lots of bikes to begin with"
   ]
  },
  {
   "cell_type": "code",
   "execution_count": 122,
   "metadata": {
    "collapsed": false,
    "scrolled": true
   },
   "outputs": [
    {
     "data": {
      "text/plain": [
       "<matplotlib.axes._subplots.AxesSubplot at 0xb7b7b90>"
      ]
     },
     "execution_count": 122,
     "metadata": {},
     "output_type": "execute_result"
    },
    {
     "data": {
      "image/png": "[encoded data removed]",
      "text/plain": [
       "<matplotlib.figure.Figure at 0xb7d5c50>"
      ]
     },
     "metadata": {},
     "output_type": "display_data"
    }
   ],
   "source": [
    "bikelog.loc[:, bikelog.ix[0] >15].plot(legend=False)"
   ]
  },
  {
   "cell_type": "markdown",
   "metadata": {},
   "source": [
    "Total number of available bikes in the system"
   ]
  },
  {
   "cell_type": "code",
   "execution_count": 125,
   "metadata": {
    "collapsed": false,
    "scrolled": true
   },
   "outputs": [
    {
     "data": {
      "text/plain": [
       "<matplotlib.axes._subplots.AxesSubplot at 0xa5d2d90>"
      ]
     },
     "execution_count": 125,
     "metadata": {},
     "output_type": "execute_result"
    },
    {
     "data": {
      "image/png": "[encoded data removed]",
      "text/plain": [
       "<matplotlib.figure.Figure at 0xb8c6730>"
      ]
     },
     "metadata": {},
     "output_type": "display_data"
    }
   ],
   "source": [
    "bikelog.sum(axis=1).plot()"
   ]
  },
  {
   "cell_type": "markdown",
   "metadata": {},
   "source": [
    "Stations that had 0 available bicycles at some point."
   ]
  },
  {
   "cell_type": "code",
   "execution_count": 143,
   "metadata": {
    "collapsed": false
   },
   "outputs": [
    {
     "data": {
      "text/plain": [
       "<matplotlib.axes._subplots.AxesSubplot at 0xbd7ea50>"
      ]
     },
     "execution_count": 143,
     "metadata": {},
     "output_type": "execute_result"
    },
    {
     "data": {
      "image/png": "[encoded data removed]",
      "text/plain": [
       "<matplotlib.figure.Figure at 0xbd7ee50>"
      ]
     },
     "metadata": {},
     "output_type": "display_data"
    }
   ],
   "source": [
    "bikelog.loc[:,(bikelog==0).any()].plot(legend=False, ylim = [-1,10])"
   ]
  },
  {
   "cell_type": "markdown",
   "metadata": {},
   "source": [
    "## Export logdata to CSV"
   ]
  },
  {
   "cell_type": "code",
   "execution_count": 151,
   "metadata": {
    "collapsed": true
   },
   "outputs": [],
   "source": [
    "bikelog.to_csv('bikelog_100215.csv')"
   ]
  },
  {
   "cell_type": "code",
   "execution_count": 152,
   "metadata": {
    "collapsed": false
   },
   "outputs": [
    {
     "data": {
      "text/plain": [
       "25L"
      ]
     },
     "execution_count": 152,
     "metadata": {},
     "output_type": "execute_result"
    }
   ],
   "source": [
    "os.path.getsize('bikelog_100215.csv')/1024 #KB"
   ]
  }
 ],
 "metadata": {
  "kernelspec": {
   "display_name": "Python 2",
   "language": "python",
   "name": "python2"
  },
  "language_info": {
   "codemirror_mode": {
    "name": "ipython",
    "version": 2
   },
   "file_extension": ".py",
   "mimetype": "text/x-python",
   "name": "python",
   "nbconvert_exporter": "python",
   "pygments_lexer": "ipython2",
   "version": "2.7.10"
  }
 },
 "nbformat": 4,
 "nbformat_minor": 0
}
